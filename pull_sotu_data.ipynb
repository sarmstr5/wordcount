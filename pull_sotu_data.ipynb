{
 "cells": [
  {
   "cell_type": "code",
   "execution_count": 1,
   "metadata": {
    "collapsed": true
   },
   "outputs": [
    {
     "data": {
      "text/plain": [
       "['.idea',\n 'CS584',\n 'cs657',\n 'CS674',\n 'Data',\n 'finance_training',\n 'fnc-1-master',\n 'group_project',\n 'hello',\n 'sample_submission.csv.zip',\n 'scala',\n 'STAT515',\n 'target']"
      ]
     },
     "execution_count": 1,
     "metadata": {},
     "output_type": "execute_result"
    }
   ],
   "source": [
    "import os\n",
    "import pickle\n",
    "import datetime as dt\n",
    "import pandas as pd\n",
    "import numpy as np\n",
    "import bs4 as bs\n",
    "import requests\n",
    "import re\n",
    "from nltk.corpus import stopwords\n",
    "import nltk\n",
    "import string\n",
    "\n",
    "os.listdir()"
   ]
  },
  {
   "cell_type": "code",
   "execution_count": 2,
   "metadata": {},
   "outputs": [
    {
     "data": {
      "text/plain": [
       "['pull_sotu_data.ipynb']"
      ]
     },
     "execution_count": 2,
     "metadata": {},
     "output_type": "execute_result"
    }
   ],
   "source": [
    "os.listdir()\n",
    "os.chdir(\"cs657\")\n",
    "os.listdir()"
   ]
  },
  {
   "cell_type": "code",
   "execution_count": null,
   "metadata": {},
   "outputs": [],
   "source": [
    "def pull_sotu_htmls(url='http://stateoftheunion.onetwothree.net/texts/index.html'):\n",
    "    sotu_file = urllib2.urlopen(url)\n",
    "    html = sotu_file.read()\n",
    "    sotu_file.close()\n",
    "    \n",
    "    soup = bs.BeautifulSoup(resp.t)"
   ]
  },
  {
   "cell_type": "code",
   "execution_count": 14,
   "metadata": {},
   "outputs": [],
   "source": [
    "base_url='http://stateoftheunion.onetwothree.net/texts/'\n",
    "url = base_url+'index.html'\n",
    "links = []\n",
    "hrefs = []\n",
    "sotu_file = requests.get(url)\n",
    "soup = bs.BeautifulSoup(sotu_file.text, 'lxml')\n",
    "soup_list = soup.findAll('a')[6:]\n",
    "for link in soup_list:\n",
    "    # hrefs.append(link.get('href')[:7])\n",
    "    links.append((link.get('href')[:7], base_url+link.get('href')))"
   ]
  },
  {
   "cell_type": "code",
   "execution_count": 12,
   "metadata": {},
   "outputs": [],
   "source": [
    "# re_pattern = '\\d{8}'\n",
    "# test = soup_list[0].get('href')\n",
    "# # print(re.search(re_pattern, test))\n",
    "# # re.search(re_pattern, test)\n",
    "# count = 0 \n",
    "# for link in soup_list:\n",
    "#     print(count)\n",
    "#     href = link.get('href')\n",
    "#     print(href[:7])\n",
    "#     try:\n",
    "#         match = re.search(re_pattern, href)\n",
    "#         if match:\n",
    "#             links.append(base_url+link)\n",
    "#     except TypeError as e:\n",
    "#         print(\"excepted{}\".format(href))\n",
    "#         print(e)\n",
    "#         continue\n",
    "# \n",
    "# print(links)"
   ]
  },
  {
   "cell_type": "code",
   "execution_count": 38,
   "metadata": {},
   "outputs": [
    {
     "name": "stdout",
     "output_type": "stream",
     "text": [
      "[('1790010', 'http://stateoftheunion.onetwothree.net/texts/17900108.html'), ('1790120', 'http://stateoftheunion.onetwothree.net/texts/17901208.html'), ('1791102', 'http://stateoftheunion.onetwothree.net/texts/17911025.html'), ('1792110', 'http://stateoftheunion.onetwothree.net/texts/17921106.html'), ('1793120', 'http://stateoftheunion.onetwothree.net/texts/17931203.html'), ('1794111', 'http://stateoftheunion.onetwothree.net/texts/17941119.html'), ('1795120', 'http://stateoftheunion.onetwothree.net/texts/17951208.html'), ('1796120', 'http://stateoftheunion.onetwothree.net/texts/17961207.html'), ('1797112', 'http://stateoftheunion.onetwothree.net/texts/17971122.html'), ('1798120', 'http://stateoftheunion.onetwothree.net/texts/17981208.html'), ('1799120', 'http://stateoftheunion.onetwothree.net/texts/17991203.html'), ('1800111', 'http://stateoftheunion.onetwothree.net/texts/18001111.html'), ('1801120', 'http://stateoftheunion.onetwothree.net/texts/18011208.html'), ('1802121', 'http://stateoftheunion.onetwothree.net/texts/18021215.html'), ('1803101', 'http://stateoftheunion.onetwothree.net/texts/18031017.html'), ('1804110', 'http://stateoftheunion.onetwothree.net/texts/18041108.html'), ('1805120', 'http://stateoftheunion.onetwothree.net/texts/18051203.html'), ('1806120', 'http://stateoftheunion.onetwothree.net/texts/18061202.html'), ('1807102', 'http://stateoftheunion.onetwothree.net/texts/18071027.html'), ('1808110', 'http://stateoftheunion.onetwothree.net/texts/18081108.html'), ('1809112', 'http://stateoftheunion.onetwothree.net/texts/18091129.html'), ('1810120', 'http://stateoftheunion.onetwothree.net/texts/18101205.html'), ('1811110', 'http://stateoftheunion.onetwothree.net/texts/18111105.html'), ('1812110', 'http://stateoftheunion.onetwothree.net/texts/18121104.html'), ('1813120', 'http://stateoftheunion.onetwothree.net/texts/18131207.html'), ('1814092', 'http://stateoftheunion.onetwothree.net/texts/18140920.html'), ('1815120', 'http://stateoftheunion.onetwothree.net/texts/18151205.html'), ('1816120', 'http://stateoftheunion.onetwothree.net/texts/18161203.html'), ('1817121', 'http://stateoftheunion.onetwothree.net/texts/18171212.html'), ('1818111', 'http://stateoftheunion.onetwothree.net/texts/18181116.html'), ('1819120', 'http://stateoftheunion.onetwothree.net/texts/18191207.html'), ('1820111', 'http://stateoftheunion.onetwothree.net/texts/18201114.html'), ('1821120', 'http://stateoftheunion.onetwothree.net/texts/18211203.html'), ('1822120', 'http://stateoftheunion.onetwothree.net/texts/18221203.html'), ('1823120', 'http://stateoftheunion.onetwothree.net/texts/18231202.html'), ('1824120', 'http://stateoftheunion.onetwothree.net/texts/18241207.html'), ('1825120', 'http://stateoftheunion.onetwothree.net/texts/18251206.html'), ('1826120', 'http://stateoftheunion.onetwothree.net/texts/18261205.html'), ('1827120', 'http://stateoftheunion.onetwothree.net/texts/18271204.html'), ('1828120', 'http://stateoftheunion.onetwothree.net/texts/18281202.html'), ('1829120', 'http://stateoftheunion.onetwothree.net/texts/18291208.html'), ('1830120', 'http://stateoftheunion.onetwothree.net/texts/18301206.html'), ('1831120', 'http://stateoftheunion.onetwothree.net/texts/18311206.html'), ('1832120', 'http://stateoftheunion.onetwothree.net/texts/18321204.html'), ('1833120', 'http://stateoftheunion.onetwothree.net/texts/18331203.html'), ('1834120', 'http://stateoftheunion.onetwothree.net/texts/18341201.html'), ('1835120', 'http://stateoftheunion.onetwothree.net/texts/18351207.html'), ('1836120', 'http://stateoftheunion.onetwothree.net/texts/18361205.html'), ('1837120', 'http://stateoftheunion.onetwothree.net/texts/18371205.html'), ('1838120', 'http://stateoftheunion.onetwothree.net/texts/18381203.html'), ('1839120', 'http://stateoftheunion.onetwothree.net/texts/18391202.html'), ('1840120', 'http://stateoftheunion.onetwothree.net/texts/18401205.html'), ('1841120', 'http://stateoftheunion.onetwothree.net/texts/18411207.html'), ('1842120', 'http://stateoftheunion.onetwothree.net/texts/18421206.html'), ('1843120', 'http://stateoftheunion.onetwothree.net/texts/18431206.html'), ('1844120', 'http://stateoftheunion.onetwothree.net/texts/18441203.html'), ('1845120', 'http://stateoftheunion.onetwothree.net/texts/18451202.html'), ('1846120', 'http://stateoftheunion.onetwothree.net/texts/18461208.html'), ('1847120', 'http://stateoftheunion.onetwothree.net/texts/18471207.html'), ('1848120', 'http://stateoftheunion.onetwothree.net/texts/18481205.html'), ('1849120', 'http://stateoftheunion.onetwothree.net/texts/18491204.html'), ('1850120', 'http://stateoftheunion.onetwothree.net/texts/18501202.html'), ('1851120', 'http://stateoftheunion.onetwothree.net/texts/18511202.html'), ('1852120', 'http://stateoftheunion.onetwothree.net/texts/18521206.html'), ('1853120', 'http://stateoftheunion.onetwothree.net/texts/18531205.html'), ('1854120', 'http://stateoftheunion.onetwothree.net/texts/18541204.html'), ('1855123', 'http://stateoftheunion.onetwothree.net/texts/18551231.html'), ('1856120', 'http://stateoftheunion.onetwothree.net/texts/18561202.html'), ('1857120', 'http://stateoftheunion.onetwothree.net/texts/18571208.html'), ('1858120', 'http://stateoftheunion.onetwothree.net/texts/18581206.html'), ('1859121', 'http://stateoftheunion.onetwothree.net/texts/18591219.html'), ('1860120', 'http://stateoftheunion.onetwothree.net/texts/18601203.html'), ('1861120', 'http://stateoftheunion.onetwothree.net/texts/18611203.html'), ('1862120', 'http://stateoftheunion.onetwothree.net/texts/18621201.html'), ('1863120', 'http://stateoftheunion.onetwothree.net/texts/18631208.html'), ('1864120', 'http://stateoftheunion.onetwothree.net/texts/18641206.html'), ('1865120', 'http://stateoftheunion.onetwothree.net/texts/18651204.html'), ('1866120', 'http://stateoftheunion.onetwothree.net/texts/18661203.html'), ('1867120', 'http://stateoftheunion.onetwothree.net/texts/18671203.html'), ('1868120', 'http://stateoftheunion.onetwothree.net/texts/18681209.html'), ('1869120', 'http://stateoftheunion.onetwothree.net/texts/18691206.html'), ('1870120', 'http://stateoftheunion.onetwothree.net/texts/18701205.html'), ('1871120', 'http://stateoftheunion.onetwothree.net/texts/18711204.html'), ('1872120', 'http://stateoftheunion.onetwothree.net/texts/18721202.html'), ('1873120', 'http://stateoftheunion.onetwothree.net/texts/18731201.html'), ('1874120', 'http://stateoftheunion.onetwothree.net/texts/18741207.html'), ('1875120', 'http://stateoftheunion.onetwothree.net/texts/18751207.html'), ('1876120', 'http://stateoftheunion.onetwothree.net/texts/18761205.html'), ('1877120', 'http://stateoftheunion.onetwothree.net/texts/18771203.html'), ('1878120', 'http://stateoftheunion.onetwothree.net/texts/18781202.html'), ('1879120', 'http://stateoftheunion.onetwothree.net/texts/18791201.html'), ('1880120', 'http://stateoftheunion.onetwothree.net/texts/18801206.html'), ('1881120', 'http://stateoftheunion.onetwothree.net/texts/18811206.html'), ('1882120', 'http://stateoftheunion.onetwothree.net/texts/18821204.html'), ('1883120', 'http://stateoftheunion.onetwothree.net/texts/18831204.html'), ('1884120', 'http://stateoftheunion.onetwothree.net/texts/18841201.html'), ('1885120', 'http://stateoftheunion.onetwothree.net/texts/18851208.html'), ('1886120', 'http://stateoftheunion.onetwothree.net/texts/18861206.html'), ('1887120', 'http://stateoftheunion.onetwothree.net/texts/18871206.html'), ('1888120', 'http://stateoftheunion.onetwothree.net/texts/18881203.html'), ('1889120', 'http://stateoftheunion.onetwothree.net/texts/18891203.html'), ('1890120', 'http://stateoftheunion.onetwothree.net/texts/18901201.html'), ('1891120', 'http://stateoftheunion.onetwothree.net/texts/18911209.html'), ('1892120', 'http://stateoftheunion.onetwothree.net/texts/18921206.html'), ('1893120', 'http://stateoftheunion.onetwothree.net/texts/18931203.html'), ('1894120', 'http://stateoftheunion.onetwothree.net/texts/18941202.html'), ('1895120', 'http://stateoftheunion.onetwothree.net/texts/18951207.html'), ('1896120', 'http://stateoftheunion.onetwothree.net/texts/18961204.html'), ('1897120', 'http://stateoftheunion.onetwothree.net/texts/18971206.html'), ('1898120', 'http://stateoftheunion.onetwothree.net/texts/18981205.html'), ('1899120', 'http://stateoftheunion.onetwothree.net/texts/18991205.html'), ('1900120', 'http://stateoftheunion.onetwothree.net/texts/19001203.html'), ('1901120', 'http://stateoftheunion.onetwothree.net/texts/19011203.html'), ('1902120', 'http://stateoftheunion.onetwothree.net/texts/19021202.html'), ('1903120', 'http://stateoftheunion.onetwothree.net/texts/19031207.html'), ('1904120', 'http://stateoftheunion.onetwothree.net/texts/19041206.html'), ('1905120', 'http://stateoftheunion.onetwothree.net/texts/19051205.html'), ('1906120', 'http://stateoftheunion.onetwothree.net/texts/19061203.html'), ('1907120', 'http://stateoftheunion.onetwothree.net/texts/19071203.html'), ('1908120', 'http://stateoftheunion.onetwothree.net/texts/19081208.html'), ('1909120', 'http://stateoftheunion.onetwothree.net/texts/19091207.html'), ('1910120', 'http://stateoftheunion.onetwothree.net/texts/19101206.html'), ('1911120', 'http://stateoftheunion.onetwothree.net/texts/19111205.html'), ('1912120', 'http://stateoftheunion.onetwothree.net/texts/19121203.html'), ('1913120', 'http://stateoftheunion.onetwothree.net/texts/19131202.html'), ('1914120', 'http://stateoftheunion.onetwothree.net/texts/19141208.html'), ('1915120', 'http://stateoftheunion.onetwothree.net/texts/19151207.html'), ('1916120', 'http://stateoftheunion.onetwothree.net/texts/19161205.html'), ('1917120', 'http://stateoftheunion.onetwothree.net/texts/19171204.html'), ('1918120', 'http://stateoftheunion.onetwothree.net/texts/19181202.html'), ('1919120', 'http://stateoftheunion.onetwothree.net/texts/19191202.html'), ('1920120', 'http://stateoftheunion.onetwothree.net/texts/19201207.html'), ('1921120', 'http://stateoftheunion.onetwothree.net/texts/19211206.html'), ('1922120', 'http://stateoftheunion.onetwothree.net/texts/19221208.html'), ('1923120', 'http://stateoftheunion.onetwothree.net/texts/19231206.html'), ('1924120', 'http://stateoftheunion.onetwothree.net/texts/19241203.html'), ('1925120', 'http://stateoftheunion.onetwothree.net/texts/19251208.html'), ('1926120', 'http://stateoftheunion.onetwothree.net/texts/19261207.html'), ('1927120', 'http://stateoftheunion.onetwothree.net/texts/19271206.html'), ('1928120', 'http://stateoftheunion.onetwothree.net/texts/19281204.html'), ('1929120', 'http://stateoftheunion.onetwothree.net/texts/19291203.html'), ('1930120', 'http://stateoftheunion.onetwothree.net/texts/19301202.html'), ('1931120', 'http://stateoftheunion.onetwothree.net/texts/19311208.html'), ('1932120', 'http://stateoftheunion.onetwothree.net/texts/19321206.html'), ('1934010', 'http://stateoftheunion.onetwothree.net/texts/19340103.html'), ('1935010', 'http://stateoftheunion.onetwothree.net/texts/19350104.html'), ('1936010', 'http://stateoftheunion.onetwothree.net/texts/19360103.html'), ('1937010', 'http://stateoftheunion.onetwothree.net/texts/19370106.html'), ('1938010', 'http://stateoftheunion.onetwothree.net/texts/19380103.html'), ('1939010', 'http://stateoftheunion.onetwothree.net/texts/19390104.html'), ('1940010', 'http://stateoftheunion.onetwothree.net/texts/19400103.html'), ('1941010', 'http://stateoftheunion.onetwothree.net/texts/19410106.html'), ('1942010', 'http://stateoftheunion.onetwothree.net/texts/19420106.html'), ('1943010', 'http://stateoftheunion.onetwothree.net/texts/19430107.html'), ('1944011', 'http://stateoftheunion.onetwothree.net/texts/19440111.html'), ('1945010', 'http://stateoftheunion.onetwothree.net/texts/19450106.html'), ('1946012', 'http://stateoftheunion.onetwothree.net/texts/19460121.html'), ('1947010', 'http://stateoftheunion.onetwothree.net/texts/19470106.html'), ('1948010', 'http://stateoftheunion.onetwothree.net/texts/19480107.html'), ('1949010', 'http://stateoftheunion.onetwothree.net/texts/19490105.html'), ('1950010', 'http://stateoftheunion.onetwothree.net/texts/19500104.html'), ('1951010', 'http://stateoftheunion.onetwothree.net/texts/19510108.html'), ('1952010', 'http://stateoftheunion.onetwothree.net/texts/19520109.html'), ('1953010', 'http://stateoftheunion.onetwothree.net/texts/19530107.html'), ('1953020', 'http://stateoftheunion.onetwothree.net/texts/19530202.html'), ('1954010', 'http://stateoftheunion.onetwothree.net/texts/19540107.html'), ('1955010', 'http://stateoftheunion.onetwothree.net/texts/19550106.html'), ('1956010', 'http://stateoftheunion.onetwothree.net/texts/19560105.html'), ('1957011', 'http://stateoftheunion.onetwothree.net/texts/19570110.html'), ('1958010', 'http://stateoftheunion.onetwothree.net/texts/19580109.html'), ('1959010', 'http://stateoftheunion.onetwothree.net/texts/19590109.html'), ('1960010', 'http://stateoftheunion.onetwothree.net/texts/19600107.html'), ('1961011', 'http://stateoftheunion.onetwothree.net/texts/19610112.html'), ('1961013', 'http://stateoftheunion.onetwothree.net/texts/19610130.html'), ('1962011', 'http://stateoftheunion.onetwothree.net/texts/19620111.html'), ('1963011', 'http://stateoftheunion.onetwothree.net/texts/19630114.html'), ('1964010', 'http://stateoftheunion.onetwothree.net/texts/19640108.html'), ('1965010', 'http://stateoftheunion.onetwothree.net/texts/19650104.html'), ('1966011', 'http://stateoftheunion.onetwothree.net/texts/19660112.html'), ('1967011', 'http://stateoftheunion.onetwothree.net/texts/19670110.html'), ('1968011', 'http://stateoftheunion.onetwothree.net/texts/19680117.html'), ('1969011', 'http://stateoftheunion.onetwothree.net/texts/19690114.html'), ('1970012', 'http://stateoftheunion.onetwothree.net/texts/19700122.html'), ('1971012', 'http://stateoftheunion.onetwothree.net/texts/19710122.html'), ('1972012', 'http://stateoftheunion.onetwothree.net/texts/19720120.html'), ('1973020', 'http://stateoftheunion.onetwothree.net/texts/19730202.html'), ('1974013', 'http://stateoftheunion.onetwothree.net/texts/19740130.html'), ('1975011', 'http://stateoftheunion.onetwothree.net/texts/19750115.html'), ('1976011', 'http://stateoftheunion.onetwothree.net/texts/19760119.html'), ('1977011', 'http://stateoftheunion.onetwothree.net/texts/19770112.html'), ('1978011', 'http://stateoftheunion.onetwothree.net/texts/19780119.html'), ('1979012', 'http://stateoftheunion.onetwothree.net/texts/19790125.html'), ('1980012', 'http://stateoftheunion.onetwothree.net/texts/19800121.html'), ('1981011', 'http://stateoftheunion.onetwothree.net/texts/19810116.html'), ('1982012', 'http://stateoftheunion.onetwothree.net/texts/19820126.html'), ('1983012', 'http://stateoftheunion.onetwothree.net/texts/19830125.html'), ('1984012', 'http://stateoftheunion.onetwothree.net/texts/19840125.html'), ('1985020', 'http://stateoftheunion.onetwothree.net/texts/19850206.html'), ('1986020', 'http://stateoftheunion.onetwothree.net/texts/19860204.html'), ('1987012', 'http://stateoftheunion.onetwothree.net/texts/19870127.html'), ('1988012', 'http://stateoftheunion.onetwothree.net/texts/19880125.html'), ('1989020', 'http://stateoftheunion.onetwothree.net/texts/19890209.html'), ('1990013', 'http://stateoftheunion.onetwothree.net/texts/19900131.html'), ('1991012', 'http://stateoftheunion.onetwothree.net/texts/19910129.html'), ('1992012', 'http://stateoftheunion.onetwothree.net/texts/19920128.html'), ('1993021', 'http://stateoftheunion.onetwothree.net/texts/19930217.html'), ('1994012', 'http://stateoftheunion.onetwothree.net/texts/19940125.html'), ('1995012', 'http://stateoftheunion.onetwothree.net/texts/19950124.html'), ('1996012', 'http://stateoftheunion.onetwothree.net/texts/19960123.html'), ('1997020', 'http://stateoftheunion.onetwothree.net/texts/19970204.html'), ('1998012', 'http://stateoftheunion.onetwothree.net/texts/19980127.html'), ('1999011', 'http://stateoftheunion.onetwothree.net/texts/19990119.html'), ('2000012', 'http://stateoftheunion.onetwothree.net/texts/20000127.html'), ('2001022', 'http://stateoftheunion.onetwothree.net/texts/20010227.html'), ('2001092', 'http://stateoftheunion.onetwothree.net/texts/20010920.html'), ('2002012', 'http://stateoftheunion.onetwothree.net/texts/20020129.html'), ('2003012', 'http://stateoftheunion.onetwothree.net/texts/20030128.html'), ('2004012', 'http://stateoftheunion.onetwothree.net/texts/20040120.html'), ('2005020', 'http://stateoftheunion.onetwothree.net/texts/20050202.html'), ('2006013', 'http://stateoftheunion.onetwothree.net/texts/20060131.html'), ('2007012', 'http://stateoftheunion.onetwothree.net/texts/20070123.html'), ('2008012', 'http://stateoftheunion.onetwothree.net/texts/20080128.html'), ('2009022', 'http://stateoftheunion.onetwothree.net/texts/20090224.html'), ('2010012', 'http://stateoftheunion.onetwothree.net/texts/20100127.html'), ('2011012', 'http://stateoftheunion.onetwothree.net/texts/20110125.html'), ('2012012', 'http://stateoftheunion.onetwothree.net/texts/20120124.html'), ('2013021', 'http://stateoftheunion.onetwothree.net/texts/20130212.html'), ('2014012', 'http://stateoftheunion.onetwothree.net/texts/20140128.html'), ('2015012', 'http://stateoftheunion.onetwothree.net/texts/20150120.html'), ('2016011', 'http://stateoftheunion.onetwothree.net/texts/20160112.html'), ('2017022', 'http://stateoftheunion.onetwothree.net/texts/20170228.html'), ('#top', 'http://stateoftheunion.onetwothree.net/texts/#top'), ('http://', 'http://stateoftheunion.onetwothree.net/texts/http://www.onetwothree.net')]\n"
     ]
    }
   ],
   "source": [
    "print(links)\n",
    "# print(hrefs[:5])"
   ]
  },
  {
   "cell_type": "code",
   "execution_count": 32,
   "metadata": {},
   "outputs": [
    {
     "data": {
      "text/plain": [
       "'!\"#$%&\\'()*+,-./:;<=>?@[\\\\]^_`{|}~'"
      ]
     },
     "execution_count": 32,
     "metadata": {},
     "output_type": "execute_result"
    }
   ],
   "source": [
    "cachedstopwords = stopwords.words(\"english\")\n",
    "cachedstopwords\n",
    "# punction = '(),.<:!/;'\n",
    "string.punctuation"
   ]
  },
  {
   "cell_type": "code",
   "execution_count": 27,
   "metadata": {
    "collapsed": false
   },
   "outputs": [],
   "source": [
    "# nltk.download()"
   ]
  },
  {
   "cell_type": "code",
   "execution_count": 39,
   "metadata": {},
   "outputs": [
    {
     "ename": "OSError",
     "evalue": "[Errno 22] Invalid argument: 'http://.txt'",
     "traceback": [
      "\u001b[1;31m---------------------------------------------------------------------------\u001b[0m",
      "\u001b[1;31mOSError\u001b[0m                                   Traceback (most recent call last)",
      "\u001b[1;32m<ipython-input-39-f0731d37f9ce>\u001b[0m in \u001b[0;36m<module>\u001b[1;34m()\u001b[0m\n\u001b[0;32m     20\u001b[0m         \u001b[0msotu\u001b[0m \u001b[1;33m+=\u001b[0m \u001b[0mstopped_s\u001b[0m\u001b[1;33m.\u001b[0m\u001b[0mreplace\u001b[0m\u001b[1;33m(\u001b[0m\u001b[1;34m'\\n'\u001b[0m\u001b[1;33m,\u001b[0m \u001b[1;34m' '\u001b[0m\u001b[1;33m)\u001b[0m\u001b[1;33m\u001b[0m\u001b[0m\n\u001b[0;32m     21\u001b[0m     \u001b[0msotu\u001b[0m \u001b[1;33m=\u001b[0m \u001b[0msotu\u001b[0m\u001b[1;33m.\u001b[0m\u001b[0mstrip\u001b[0m\u001b[1;33m(\u001b[0m\u001b[1;33m)\u001b[0m\u001b[1;33m\u001b[0m\u001b[0m\n\u001b[1;32m---> 22\u001b[1;33m     \u001b[1;32mwith\u001b[0m \u001b[0mopen\u001b[0m\u001b[1;33m(\u001b[0m\u001b[0mstr\u001b[0m\u001b[1;33m(\u001b[0m\u001b[0mdate\u001b[0m\u001b[1;33m)\u001b[0m \u001b[1;33m+\u001b[0m\u001b[1;34m'.txt'\u001b[0m\u001b[1;33m,\u001b[0m \u001b[1;34m\"w\"\u001b[0m\u001b[1;33m)\u001b[0m \u001b[1;32mas\u001b[0m \u001b[0mf\u001b[0m\u001b[1;33m:\u001b[0m\u001b[1;33m\u001b[0m\u001b[0m\n\u001b[0m\u001b[0;32m     23\u001b[0m         \u001b[0mf\u001b[0m\u001b[1;33m.\u001b[0m\u001b[0mwrite\u001b[0m\u001b[1;33m(\u001b[0m\u001b[0msotu\u001b[0m\u001b[1;33m)\u001b[0m\u001b[1;33m\u001b[0m\u001b[0m\n",
      "\u001b[1;31mOSError\u001b[0m: [Errno 22] Invalid argument: 'http://.txt'"
     ],
     "output_type": "error"
    }
   ],
   "source": [
    "# os.chdir('addresses')\n",
    "punc = string.punctuation\n",
    "nltk_stopwords = stopwords.words(\"english\")\n",
    "for tup in links:\n",
    "    # print(link)\n",
    "    date = tup[0]\n",
    "    link = tup[1]\n",
    "    address_file = requests.get(link)\n",
    "    address_soup = bs.BeautifulSoup(address_file.text, 'lxml')\n",
    "    # list of paragraphs\n",
    "    sotu_list = address_soup.findAll('p')\n",
    "    # print(sotu_list)\n",
    "    sotu = ' '\n",
    "    # for line in address\n",
    "    for line in sotu_list: \n",
    "        # these three steps are inefficient and could be compressed\n",
    "        # check each character and remove all punctuation\n",
    "        cleaned_s = ' ' + ''.join(c.lower() for c in line.text if c not in punc) #inefficient\n",
    "        stopped_s = ' ' + ' '.join(word for word in cleaned_s.split() if word not in nltk_stopwords) #inefficient\n",
    "        sotu += stopped_s.replace('\\n', ' ')\n",
    "    sotu = sotu.strip()\n",
    "    with open(str(date) +'.txt', \"w\") as f:\n",
    "        f.write(sotu)"
   ]
  },
  {
   "cell_type": "code",
   "execution_count": 21,
   "metadata": {},
   "outputs": [
    {
     "data": {
      "text/plain": [
       "2023"
      ]
     },
     "execution_count": 21,
     "metadata": {},
     "output_type": "execute_result"
    }
   ],
   "source": [
    "len(links) + 1790"
   ]
  }
 ],
 "metadata": {
  "kernelspec": {
   "display_name": "Python 2",
   "language": "python",
   "name": "python2"
  },
  "language_info": {
   "codemirror_mode": {
    "name": "ipython",
    "version": 2.0
   },
   "file_extension": ".py",
   "mimetype": "text/x-python",
   "name": "python",
   "nbconvert_exporter": "python",
   "pygments_lexer": "ipython2",
   "version": "2.7.6"
  }
 },
 "nbformat": 4,
 "nbformat_minor": 0
}